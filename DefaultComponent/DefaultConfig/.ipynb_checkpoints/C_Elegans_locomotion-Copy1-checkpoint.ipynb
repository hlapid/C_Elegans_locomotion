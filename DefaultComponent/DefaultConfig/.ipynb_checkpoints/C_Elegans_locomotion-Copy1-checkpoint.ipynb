{
 "cells": [
  {
   "cell_type": "markdown",
   "metadata": {},
   "source": [
    "# C Elegans Locomotion Simulations Platform"
   ]
  },
  {
   "cell_type": "markdown",
   "metadata": {},
   "source": [
    "The purpose of this notebook is to allow a faster, easier and more user-friendly \"tweak, tune, run, plot\" loop for the discrete neurons Rhapsody project.\n",
    "\n",
    "This notebook replaces the need to switch back and forth between excel (for parameters editing), Spyder (for python-script editing), Matlab (for plotting) and Rhapsody (for whatever reason). Instead, the idea is that **everything** can be done at one place."
   ]
  },
  {
   "cell_type": "markdown",
   "metadata": {},
   "source": [
    "## Table of Content"
   ]
  },
  {
   "cell_type": "markdown",
   "metadata": {},
   "source": [
    "* [Importing & defining global variables](#Importing-&-defining-global-variables)\n",
    "* [Creating the weights file](#Creating-the-weights-file)\n",
    "* [Updating simulation parameter file](#Updating-simulation-parameter-file)\n",
    "* [Running the simulation](#Running-the-simulation)\n",
    "* [Plotting the results](#Plotting-the-results)"
   ]
  },
  {
   "cell_type": "markdown",
   "metadata": {},
   "source": [
    "## Importing & defining global variables"
   ]
  },
  {
   "cell_type": "markdown",
   "metadata": {},
   "source": [
    "We begin by importing the necessary python modules:"
   ]
  },
  {
   "cell_type": "code",
   "execution_count": 94,
   "metadata": {
    "collapsed": false
   },
   "outputs": [],
   "source": [
    "# Standard python modules we use for number-crunching and plotting\n",
    "import pandas as pd\n",
    "import numpy as np\n",
    "import matplotlib.pyplot as plt\n",
    "import itertools\n",
    "\n",
    "# Import statements for the interactive params changing part\n",
    "from __future__ import print_function\n",
    "from IPython.html.widgets import interact, interactive, fixed\n",
    "from IPython.html import widgets\n",
    "\n",
    "# home made .py file that contains the importing functions of all input params\n",
    "import c_elegans_locomotion"
   ]
  },
  {
   "cell_type": "markdown",
   "metadata": {},
   "source": [
    "We continue by telling the program where it can find the relevant files:"
   ]
  },
  {
   "cell_type": "code",
   "execution_count": 95,
   "metadata": {
    "collapsed": false
   },
   "outputs": [],
   "source": [
    "# This is the csv file in which every row is \"neuron_name, neuron_number, neuron_type\n",
    "GLOBAL_NAMESFILE = 'C:\\Users\\hlapid\\Desktop\\CSVFiles\\\\names.csv'\n",
    "\n",
    "# This is the csv file with all the known chemical weights - our chemical \"connectome\":\n",
    "GLOBAL_CHWEIGHTSFILE = 'C:\\Users\\hlapid\\Desktop\\CSVFiles\\CHweights_normed.csv'\n",
    "# This is the csv file with NMJ weights - the e-phys output:\n",
    "GLOBAL_NMJWEIGHTSFILE = 'C:\\Users\\hlapid\\Desktop\\CSVFiles\\NMJweights.csv'\n",
    "\n",
    "# This is the csv file with the Rhapsody simulation parameters:\n",
    "GLOBAL_PARAMSFILE = 'C:\\Users\\hlapid\\Desktop\\CSVFiles\\params.csv'\n",
    "\n",
    "# This is the log file that the rhapsody simulation creates.\n",
    "# It doesn't need a full path because the notebook and the file are kept in the same directory.\n",
    "GLOBAL_LOGFILE = 'dis_neuron_log.csv'"
   ]
  },
  {
   "cell_type": "markdown",
   "metadata": {},
   "source": [
    "We proceed by defining the dictionary containing all the \"protected\" chemical weights - meaning, all the synapses with known polarity. This can be extended whenever we wish, and can also contain the source (from which we learned the polarity) as a comment.\n",
    "\n",
    "The dictionary is a dictionary of dictionaries. Each key in \"protectedDict\" stands for a presynaptic neuron. Each value is a dictionary, corresponding to the appropriate postsynaptic neurons and the respective polarity."
   ]
  },
  {
   "cell_type": "code",
   "execution_count": 96,
   "metadata": {
    "collapsed": false
   },
   "outputs": [],
   "source": [
    "protectedDict = {\"ALML\" : {\"AVDL\" : \"+\", \"AVDR\" : \"+\"},\n",
    "                 \"ALMR\" : {\"AVDR\" : \"+\", \"AVDL\" : \"+\"},\n",
    "                 \"AVDL\" : {\"AVAL\" : \"+\", \"AVAR\" : \"+\"},\n",
    "                 \"AVDR\" : {\"AVAL\" : \"+\", \"AVAR\" : \"+\"},\n",
    "                 \"AVM\" : {\"AVBL\" : \"-\", \"AVBR\" : \"-\"},\n",
    "                 \"RIML\" : {\"AVBL\" : \"-\", \"AVBR\" : \"-\", \"SMDDL\" : \"-\", \"SMDVL\" : \"-\", \"SMDDR\" : \"-\", \"SMDVR\" : \"-\", },\n",
    "                 \"RIMR\" : {\"AVBL\" : \"-\", \"AVBR\" : \"-\", \"SMDDL\" : \"-\", \"SMDVL\" : \"-\", \"SMDDR\" : \"-\", \"SMDVR\" : \"-\", },\n",
    "                 \"AIBL\" : {\"RIML\" : \"-\", \"RIMR\" : \"-\", \"SMDDL\" : \"-\", \"SMDVL\" : \"-\", \"SMDDR\" : \"-\", \"SMDVR\" : \"-\", },\n",
    "                 \"AIBR\" : {\"RIML\" : \"-\", \"RIMR\" : \"-\", \"SMDDL\" : \"-\", \"SMDVL\" : \"-\", \"SMDDR\" : \"-\", \"SMDVR\" : \"-\", }}"
   ]
  },
  {
   "cell_type": "markdown",
   "metadata": {},
   "source": [
    "Next - create the names dictionary. We use a method from discreteNeurons. As a sanity check, it's easy to print the dataframe by adding:\n",
    ">; namesDF \n",
    "\n",
    "to the following row:"
   ]
  },
  {
   "cell_type": "code",
   "execution_count": 97,
   "metadata": {
    "collapsed": false,
    "scrolled": true
   },
   "outputs": [],
   "source": [
    "namesDF = c_elegans_locomotion.createDict(GLOBAL_NAMESFILE)"
   ]
  },
  {
   "cell_type": "markdown",
   "metadata": {},
   "source": [
    "We now turn to read the chemical weights dataframe. Again, we use a method from c_elegans_locomotion, and again, as a sanity check, it's easy to print the dataframe by adding:\n",
    ">; chDF \n",
    "\n",
    "to the following row:"
   ]
  },
  {
   "cell_type": "code",
   "execution_count": 102,
   "metadata": {
    "collapsed": false
   },
   "outputs": [
    {
     "ename": "ValueError",
     "evalue": "Length mismatch: Expected axis has 79 elements, new values have 174 elements",
     "output_type": "error",
     "traceback": [
      "\u001b[1;31m---------------------------------------------------------------------------\u001b[0m",
      "\u001b[1;31mValueError\u001b[0m                                Traceback (most recent call last)",
      "\u001b[1;32m<ipython-input-102-e3b889b3dc18>\u001b[0m in \u001b[0;36m<module>\u001b[1;34m()\u001b[0m\n\u001b[1;32m----> 1\u001b[1;33m \u001b[1;33m[\u001b[0m\u001b[0mchDF\u001b[0m\u001b[1;33m,\u001b[0m\u001b[0mnmjDF\u001b[0m\u001b[1;33m,\u001b[0m\u001b[0mmuscleNamesDF\u001b[0m\u001b[1;33m]\u001b[0m \u001b[1;33m=\u001b[0m \u001b[0mc_elegans_locomotion\u001b[0m\u001b[1;33m.\u001b[0m\u001b[0mcreateMatrix\u001b[0m\u001b[1;33m(\u001b[0m\u001b[0mnamesDF\u001b[0m\u001b[1;33m,\u001b[0m \u001b[0mGLOBAL_CHWEIGHTSFILE\u001b[0m\u001b[1;33m)\u001b[0m\u001b[1;33m\u001b[0m\u001b[0m\n\u001b[0m",
      "\u001b[1;32mC:\\Rational\\Rhapsody\\7.6.1\\C_Elegans_locomotion\\DefaultComponent\\DefaultConfig\\c_elegans_locomotion.py\u001b[0m in \u001b[0;36mcreateMatrix\u001b[1;34m(namesDF, chweightsfile)\u001b[0m\n\u001b[0;32m     25\u001b[0m \u001b[1;31m# Create matrix of chemical weights\u001b[0m\u001b[1;33m\u001b[0m\u001b[1;33m\u001b[0m\u001b[0m\n\u001b[0;32m     26\u001b[0m \u001b[1;32mdef\u001b[0m \u001b[0mcreateMatrix\u001b[0m\u001b[1;33m(\u001b[0m\u001b[0mnamesDF\u001b[0m\u001b[1;33m,\u001b[0m \u001b[0mchweightsfile\u001b[0m\u001b[1;33m,\u001b[0m\u001b[0mnmjweightsfile\u001b[0m\u001b[1;33m)\u001b[0m\u001b[1;33m:\u001b[0m\u001b[1;33m\u001b[0m\u001b[0m\n\u001b[1;32m---> 27\u001b[1;33m \u001b[1;31m# t for type - the instancces' type required - N for neuron, M for muscle\u001b[0m\u001b[1;33m\u001b[0m\u001b[1;33m\u001b[0m\u001b[0m\n\u001b[0m\u001b[0;32m     28\u001b[0m     \u001b[0mneuronNamesDF\u001b[0m \u001b[1;33m=\u001b[0m \u001b[0mnamesDF\u001b[0m\u001b[1;33m[\u001b[0m\u001b[0mnamesDF\u001b[0m\u001b[1;33m[\u001b[0m\u001b[1;34m'type'\u001b[0m\u001b[1;33m]\u001b[0m\u001b[1;33m!=\u001b[0m\u001b[1;34m\"BS\"\u001b[0m\u001b[1;33m]\u001b[0m\u001b[1;33m\u001b[0m\u001b[0m\n\u001b[0;32m     29\u001b[0m \u001b[1;31m#    print(neuronNamesDF)\u001b[0m\u001b[1;33m\u001b[0m\u001b[1;33m\u001b[0m\u001b[0m\n",
      "\u001b[1;32mC:\\Users\\hlapid\\AppData\\Local\\Continuum\\Anaconda2\\lib\\site-packages\\pandas\\core\\frame.pyc\u001b[0m in \u001b[0;36mset_index\u001b[1;34m(self, keys, drop, append, inplace, verify_integrity)\u001b[0m\n\u001b[0;32m   2796\u001b[0m         \u001b[0mindex\u001b[0m\u001b[1;33m.\u001b[0m\u001b[0m_cleanup\u001b[0m\u001b[1;33m(\u001b[0m\u001b[1;33m)\u001b[0m\u001b[1;33m\u001b[0m\u001b[0m\n\u001b[0;32m   2797\u001b[0m \u001b[1;33m\u001b[0m\u001b[0m\n\u001b[1;32m-> 2798\u001b[1;33m         \u001b[0mframe\u001b[0m\u001b[1;33m.\u001b[0m\u001b[0mindex\u001b[0m \u001b[1;33m=\u001b[0m \u001b[0mindex\u001b[0m\u001b[1;33m\u001b[0m\u001b[0m\n\u001b[0m\u001b[0;32m   2799\u001b[0m \u001b[1;33m\u001b[0m\u001b[0m\n\u001b[0;32m   2800\u001b[0m         \u001b[1;32mif\u001b[0m \u001b[1;32mnot\u001b[0m \u001b[0minplace\u001b[0m\u001b[1;33m:\u001b[0m\u001b[1;33m\u001b[0m\u001b[0m\n",
      "\u001b[1;32mC:\\Users\\hlapid\\AppData\\Local\\Continuum\\Anaconda2\\lib\\site-packages\\pandas\\core\\generic.pyc\u001b[0m in \u001b[0;36m__setattr__\u001b[1;34m(self, name, value)\u001b[0m\n\u001b[0;32m   2369\u001b[0m         \u001b[1;32mtry\u001b[0m\u001b[1;33m:\u001b[0m\u001b[1;33m\u001b[0m\u001b[0m\n\u001b[0;32m   2370\u001b[0m             \u001b[0mobject\u001b[0m\u001b[1;33m.\u001b[0m\u001b[0m__getattribute__\u001b[0m\u001b[1;33m(\u001b[0m\u001b[0mself\u001b[0m\u001b[1;33m,\u001b[0m \u001b[0mname\u001b[0m\u001b[1;33m)\u001b[0m\u001b[1;33m\u001b[0m\u001b[0m\n\u001b[1;32m-> 2371\u001b[1;33m             \u001b[1;32mreturn\u001b[0m \u001b[0mobject\u001b[0m\u001b[1;33m.\u001b[0m\u001b[0m__setattr__\u001b[0m\u001b[1;33m(\u001b[0m\u001b[0mself\u001b[0m\u001b[1;33m,\u001b[0m \u001b[0mname\u001b[0m\u001b[1;33m,\u001b[0m \u001b[0mvalue\u001b[0m\u001b[1;33m)\u001b[0m\u001b[1;33m\u001b[0m\u001b[0m\n\u001b[0m\u001b[0;32m   2372\u001b[0m         \u001b[1;32mexcept\u001b[0m \u001b[0mAttributeError\u001b[0m\u001b[1;33m:\u001b[0m\u001b[1;33m\u001b[0m\u001b[0m\n\u001b[0;32m   2373\u001b[0m             \u001b[1;32mpass\u001b[0m\u001b[1;33m\u001b[0m\u001b[0m\n",
      "\u001b[1;32mpandas\\src\\properties.pyx\u001b[0m in \u001b[0;36mpandas.lib.AxisProperty.__set__ (pandas\\lib.c:45002)\u001b[1;34m()\u001b[0m\n",
      "\u001b[1;32mC:\\Users\\hlapid\\AppData\\Local\\Continuum\\Anaconda2\\lib\\site-packages\\pandas\\core\\generic.pyc\u001b[0m in \u001b[0;36m_set_axis\u001b[1;34m(self, axis, labels)\u001b[0m\n\u001b[0;32m    423\u001b[0m \u001b[1;33m\u001b[0m\u001b[0m\n\u001b[0;32m    424\u001b[0m     \u001b[1;32mdef\u001b[0m \u001b[0m_set_axis\u001b[0m\u001b[1;33m(\u001b[0m\u001b[0mself\u001b[0m\u001b[1;33m,\u001b[0m \u001b[0maxis\u001b[0m\u001b[1;33m,\u001b[0m \u001b[0mlabels\u001b[0m\u001b[1;33m)\u001b[0m\u001b[1;33m:\u001b[0m\u001b[1;33m\u001b[0m\u001b[0m\n\u001b[1;32m--> 425\u001b[1;33m         \u001b[0mself\u001b[0m\u001b[1;33m.\u001b[0m\u001b[0m_data\u001b[0m\u001b[1;33m.\u001b[0m\u001b[0mset_axis\u001b[0m\u001b[1;33m(\u001b[0m\u001b[0maxis\u001b[0m\u001b[1;33m,\u001b[0m \u001b[0mlabels\u001b[0m\u001b[1;33m)\u001b[0m\u001b[1;33m\u001b[0m\u001b[0m\n\u001b[0m\u001b[0;32m    426\u001b[0m         \u001b[0mself\u001b[0m\u001b[1;33m.\u001b[0m\u001b[0m_clear_item_cache\u001b[0m\u001b[1;33m(\u001b[0m\u001b[1;33m)\u001b[0m\u001b[1;33m\u001b[0m\u001b[0m\n\u001b[0;32m    427\u001b[0m \u001b[1;33m\u001b[0m\u001b[0m\n",
      "\u001b[1;32mC:\\Users\\hlapid\\AppData\\Local\\Continuum\\Anaconda2\\lib\\site-packages\\pandas\\core\\internals.pyc\u001b[0m in \u001b[0;36mset_axis\u001b[1;34m(self, axis, new_labels)\u001b[0m\n\u001b[0;32m   2570\u001b[0m         \u001b[1;32mif\u001b[0m \u001b[0mnew_len\u001b[0m \u001b[1;33m!=\u001b[0m \u001b[0mold_len\u001b[0m\u001b[1;33m:\u001b[0m\u001b[1;33m\u001b[0m\u001b[0m\n\u001b[0;32m   2571\u001b[0m             raise ValueError('Length mismatch: Expected axis has %d elements, '\n\u001b[1;32m-> 2572\u001b[1;33m                              'new values have %d elements' % (old_len, new_len))\n\u001b[0m\u001b[0;32m   2573\u001b[0m \u001b[1;33m\u001b[0m\u001b[0m\n\u001b[0;32m   2574\u001b[0m         \u001b[0mself\u001b[0m\u001b[1;33m.\u001b[0m\u001b[0maxes\u001b[0m\u001b[1;33m[\u001b[0m\u001b[0maxis\u001b[0m\u001b[1;33m]\u001b[0m \u001b[1;33m=\u001b[0m \u001b[0mnew_labels\u001b[0m\u001b[1;33m\u001b[0m\u001b[0m\n",
      "\u001b[1;31mValueError\u001b[0m: Length mismatch: Expected axis has 79 elements, new values have 174 elements"
     ]
    }
   ],
   "source": [
    "[chDF,nmjDF,muscleNamesDF] = c_elegans_locomotion.createMatrix(namesDF, GLOBAL_CHWEIGHTSFILE, GLOBAL_NMJWEIGHTSFILE)"
   ]
  },
  {
   "cell_type": "markdown",
   "metadata": {},
   "source": [
    "## Creating the weights file"
   ]
  },
  {
   "cell_type": "markdown",
   "metadata": {},
   "source": [
    "This is a very important part of the python script, and this is why I chose to add it here \"as it is\" instead of calling it from a function. This is the part in which we tell the program which polarity we want for every synapse:"
   ]
  },
  {
   "cell_type": "code",
   "execution_count": 99,
   "metadata": {
    "collapsed": false
   },
   "outputs": [],
   "source": [
    "# Create list of commands - each command is a tuple:\n",
    "# (preSynaptic (=row in chMatrix), postSynaptic (=column in chMatrix), synapse sign)\n",
    "# Exmaple: commandsList.append(('AVDL', 'all', '+'))\n",
    "# Exmaple: commandsList.append(('AVDR', 'AVAL', '-'))\n",
    "commandsList = []\n",
    "for pre_name, pre_row in namesDF.iterrows():\n",
    "    # presynaptic cell is interneuron\n",
    "    if pre_row['type'] == \"IN\":\n",
    "        for post_name, post_row in namesDF.iterrows():   \n",
    "            if post_row['type'] == \"IN\":\n",
    "                commandsList.append((pre_name, post_name, '-'))\n",
    "            elif post_row['type'] == \"SN\":\n",
    "                commandsList.append((pre_name, post_name, '+'))\n",
    "            elif post_row['type'] == \"MN\":\n",
    "                commandsList.append((pre_name, post_name, '+'))\n",
    "    # presynaptic cell is sensory\n",
    "    elif pre_row['type'] == \"SN\":\n",
    "        for post_name, post_row in namesDF.iterrows():   \n",
    "            if post_row['type'] == \"IN\":\n",
    "                commandsList.append((pre_name, post_name, '+'))\n",
    "            elif post_row['type'] == \"SN\":\n",
    "                commandsList.append((pre_name, post_name, '+'))\n",
    "            elif post_row['type'] == \"MN\":\n",
    "                commandsList.append((pre_name, post_name, '+'))\n",
    "    # presynaptic cell is motor\n",
    "    elif pre_row['type'] == \"MN\":\n",
    "        for post_name, post_row in namesDF.iterrows():   \n",
    "            if post_row['type'] == \"IN\":\n",
    "                commandsList.append((pre_name, post_name, '-'))\n",
    "            elif post_row['type'] == \"SN\":\n",
    "                commandsList.append((pre_name, post_name, '-'))\n",
    "            elif post_row['type'] == \"MN\":\n",
    "                commandsList.append((pre_name, post_name, '+'))"
   ]
  },
  {
   "cell_type": "code",
   "execution_count": 100,
   "metadata": {
    "collapsed": false
   },
   "outputs": [
    {
     "ename": "NameError",
     "evalue": "name 'discreteNeurons' is not defined",
     "output_type": "error",
     "traceback": [
      "\u001b[1;31m---------------------------------------------------------------------------\u001b[0m",
      "\u001b[1;31mNameError\u001b[0m                                 Traceback (most recent call last)",
      "\u001b[1;32m<ipython-input-100-baf6e4fa8948>\u001b[0m in \u001b[0;36m<module>\u001b[1;34m()\u001b[0m\n\u001b[1;32m----> 1\u001b[1;33m \u001b[0mchDF2\u001b[0m \u001b[1;33m=\u001b[0m \u001b[0mdiscreteNeurons\u001b[0m\u001b[1;33m.\u001b[0m\u001b[0mapplyCommands\u001b[0m\u001b[1;33m(\u001b[0m\u001b[0mchDF\u001b[0m\u001b[1;33m,\u001b[0m \u001b[0mcommandsList\u001b[0m\u001b[1;33m,\u001b[0m \u001b[0mnamesDF\u001b[0m\u001b[1;33m)\u001b[0m\u001b[1;33m\u001b[0m\u001b[0m\n\u001b[0m",
      "\u001b[1;31mNameError\u001b[0m: name 'discreteNeurons' is not defined"
     ]
    }
   ],
   "source": [
    "chDF2 = discreteNeurons.applyCommands(chDF, commandsList, namesDF)"
   ]
  },
  {
   "cell_type": "markdown",
   "metadata": {},
   "source": [
    "This code makes AVBL\\R inhibitory to all VA/DA, and AVAL\\R inhibitory to all VB/DB.\n",
    "\n",
    "DA/VA/DB/VB excitatory to D class neurons\n",
    "D class neurons inhibitory to all their post synaptic neurons:"
   ]
  },
  {
   "cell_type": "code",
   "execution_count": null,
   "metadata": {
    "collapsed": false
   },
   "outputs": [],
   "source": [
    "for pre_name, pre_row in namesDF.iterrows():\n",
    "    # presynaptic cell is interneuron\n",
    "    if pre_name == \"AVBL\" or pre_name == \"AVBR\":\n",
    "        for post_name, post_row in namesDF.iterrows():   \n",
    "            if (\"VA\" in post_name or \"DA\" in post_name) and not (\"AVA\" in post_name):\n",
    "                commandsList.append((pre_name, post_name, '-'))\n",
    "    elif pre_name == \"AVAL\" or pre_name == \"AVAR\":\n",
    "        for post_name, post_row in namesDF.iterrows():   \n",
    "            if (\"VB\" in post_name or \"DB\" in post_name) and not (\"AVB\" in post_name):\n",
    "                commandsList.append((pre_name, post_name, '-'))\n",
    "#    elif (\"VB\" in pre_name) and not (\"AVB\" in pre_name):\n",
    "#        for post_name, post_row in namesDF.iterrows():   \n",
    "#            if (\"DB\" in post_name):\n",
    "#                commandsList.append((pre_name, post_name, '-'))\n",
    "#            elif (\"DD\" in post_name) and not (\"SMDD\" in post_name):\n",
    "#                commandsList.append((pre_name, post_name, '+'))\n",
    "#            elif (\"VD\" in post_name) and not (\"AVD\" in post_name):\n",
    "#                commandsList.append((pre_name, post_name, '+'))\n",
    "#    elif (\"DB\" in pre_name):\n",
    "#        for post_name, post_row in namesDF.iterrows():   \n",
    "#            if (\"VB\" in post_name) and not (\"AVB\" in post_name):\n",
    "#                commandsList.append((pre_name, post_name, '-'))\n",
    "#            elif (\"DD\" in post_name) and not (\"SMDD\" in post_name): \n",
    "#                commandsList.append((pre_name, post_name, '+'))\n",
    "#            elif (\"VD\" in post_name) and not (\"AVD\" in post_name):\n",
    "#                commandsList.append((pre_name, post_name, '+'))\n",
    "#    elif (\"VA\" in pre_name) and not (\"AVA\" in pre_name):\n",
    "#        for post_name, post_row in namesDF.iterrows():   \n",
    "#            if (\"DA\" in post_name):\n",
    "#                commandsList.append((pre_name, post_name, '-'))\n",
    "#            elif (\"DD\" in post_name) and not (\"SMDD\" in post_name):\n",
    "#                commandsList.append((pre_name, post_name, '+'))\n",
    "#            elif (\"VD\" in post_name) and not (\"AVD\" in post_name):\n",
    "#                commandsList.append((pre_name, post_name, '+'))\n",
    "#    elif (\"DA\" in pre_name):\n",
    "#        for post_name, post_row in namesDF.iterrows():   \n",
    "#            if (\"VA\" in post_name) and not (\"AVA\" in post_name):\n",
    "#                commandsList.append((pre_name, post_name, '-'))\n",
    "#            elif (\"DD\" in post_name) and not (\"SMDD\" in post_name):\n",
    "#                commandsList.append((pre_name, post_name, '+'))\n",
    "#            elif (\"VD\" in post_name) and not (\"AVD\" in post_name):\n",
    "#                commandsList.append((pre_name, post_name, '+'))\n",
    "\n",
    "    # presynaptic cell is D class neuron inhibits MNs\n",
    "    elif (\"DD\" in pre_name) and not (\"SMDD\" in pre_name):\n",
    "#      for post_name, post_row in namesDF.iterrows():   \n",
    "         #   if post_row['type'] == \"MN\":\n",
    "        #  commandsList.append((pre_name, post_name, '-'))\n",
    "        commandsList.append((pre_name,\"all\",\"-\"))\n",
    "    elif (\"VD\" in pre_name) and not (\"AVD\" in pre_name):\n",
    "#        for post_name, post_row in namesDF.iterrows():   \n",
    "#            if post_row['type'] == \"MN\":\n",
    "#                commandsList.append((pre_name, post_name, '-'))         \n",
    "        commandsList.append((pre_name,\"all\",\"-\"))\n",
    "# commandsList.append((\"all\",\"AVDL\",\"-\"))"
   ]
  },
  {
   "cell_type": "markdown",
   "metadata": {},
   "source": [
    "We now apply all these commands to the chemical weights dataframe: "
   ]
  },
  {
   "cell_type": "code",
   "execution_count": null,
   "metadata": {
    "collapsed": false
   },
   "outputs": [],
   "source": [
    "chDF2 = discreteNeurons.applyCommands(chDF, commandsList, namesDF)"
   ]
  },
  {
   "cell_type": "markdown",
   "metadata": {},
   "source": [
    "And overwrite the dataframe according to the protectedDict polarities:"
   ]
  },
  {
   "cell_type": "code",
   "execution_count": null,
   "metadata": {
    "collapsed": true
   },
   "outputs": [],
   "source": [
    "protectedDF = discreteNeurons.applyProtected(chDF2, protectedDict)"
   ]
  },
  {
   "cell_type": "markdown",
   "metadata": {},
   "source": [
    "Lastly, we finish by saving this weights file back to the original weights file:"
   ]
  },
  {
   "cell_type": "code",
   "execution_count": null,
   "metadata": {
    "collapsed": true
   },
   "outputs": [],
   "source": [
    "protectedDF.to_csv(GLOBAL_WEIGHTSFILE, header=False, index=False) "
   ]
  },
  {
   "cell_type": "markdown",
   "metadata": {},
   "source": [
    "Just a check - this value should be positive, regardless of the weights declared above, since it's a \"protected\" value:"
   ]
  },
  {
   "cell_type": "markdown",
   "metadata": {},
   "source": [
    "## Updating simulation parameter file"
   ]
  },
  {
   "cell_type": "markdown",
   "metadata": {},
   "source": [
    "The Rhapsody simulation reads its parameters (such as neuron decay time, simulation runtime, synaptic strength coefficients, etc) from a CSV file. This path for this file was defined when we defined all global variables above.\n",
    "\n",
    "The parameter CSV file can be easily imported into a dataframe:"
   ]
  },
  {
   "cell_type": "code",
   "execution_count": null,
   "metadata": {
    "collapsed": true
   },
   "outputs": [],
   "source": [
    "paramsDF = pd.read_csv(GLOBAL_PARAMSFILE, header=None, index_col=0, names = ['value', 'description'])"
   ]
  },
  {
   "cell_type": "markdown",
   "metadata": {},
   "source": [
    "We define this simple function for changing the parameters and their default values:"
   ]
  },
  {
   "cell_type": "code",
   "execution_count": null,
   "metadata": {
    "collapsed": true
   },
   "outputs": [],
   "source": [
    "def changeParams(EJCoeff=.1, CHCoeff=5, NMJCoeff=1, simRuntime=1000, decayTime=150, propCoeff=3,\n",
    "                 LeakyCoeff=0.98 ,EJSynDelay=1, CHSynDelay=5, NMJSynDelay=1, SignalAttenuation=0.98):\n",
    "    paramsDF.at['EJCoeff','value'] = EJCoeff\n",
    "    paramsDF.at['CHCoeff','value'] = CHCoeff\n",
    "    paramsDF.at['NMJCoeff','value'] = NMJCoeff\n",
    "    paramsDF.at['simRuntime','value'] = simRuntime\n",
    "    paramsDF.at['decayTime','value'] = decayTime\n",
    "    paramsDF.at['propCoeff','value'] = propCoeff\n",
    "    paramsDF.at['LeakyCoeff','value'] = LeakyCoeff\n",
    "    paramsDF.at['EJSynDelay','value'] = EJSynDelay\n",
    "    paramsDF.at['CHSynDelay','value'] = CHSynDelay\n",
    "    paramsDF.at['NMJSynDelay','value'] = NMJSynDelay\n",
    "    paramsDF.at['SignalAttenuation','value'] = SignalAttenuation\n",
    "    return paramsDF"
   ]
  },
  {
   "cell_type": "markdown",
   "metadata": {},
   "source": [
    "And now we use a simple JavaScript widget to easily tune these:"
   ]
  },
  {
   "cell_type": "code",
   "execution_count": null,
   "metadata": {
    "collapsed": false
   },
   "outputs": [],
   "source": [
    "paramDF = changeParams()\n",
    "print(paramsDF)\n",
    "#interact(changeParams, EJCoeff=(0.0,1.5,0.01), CHCoeff=(0.0,10,0.1), simRuntime=(100,1000),\n",
    "#       decayTime=(1,100), propCoeff=(1.0,50.0), LeakyCoeff=(0.0,1,0.01),\n",
    "#     EJSynDelay=(1,100),CHSynDelay=(5,100), SignalAttenuation=(0.0,1,0.01))"
   ]
  },
  {
   "cell_type": "code",
   "execution_count": null,
   "metadata": {
    "collapsed": true
   },
   "outputs": [],
   "source": [
    "paramsDF.to_csv(GLOBAL_PARAMSFILE,header=False)"
   ]
  },
  {
   "cell_type": "markdown",
   "metadata": {},
   "source": [
    "This makes tweaking the simulation parameter easy and hassle-free..."
   ]
  },
  {
   "cell_type": "markdown",
   "metadata": {},
   "source": [
    "## Running the simulation"
   ]
  },
  {
   "cell_type": "markdown",
   "metadata": {},
   "source": [
    "Since iPython can run cmd commands, this is done easily by running the following line:"
   ]
  },
  {
   "cell_type": "code",
   "execution_count": null,
   "metadata": {
    "collapsed": false
   },
   "outputs": [],
   "source": [
    "!DefaultComponent.bat run MainDefaultComponent"
   ]
  },
  {
   "cell_type": "markdown",
   "metadata": {},
   "source": [
    "## Plotting the results"
   ]
  },
  {
   "cell_type": "markdown",
   "metadata": {},
   "source": [
    "As before, what we do now is loading the log file into a python dataframe:"
   ]
  },
  {
   "cell_type": "code",
   "execution_count": null,
   "metadata": {
    "collapsed": true
   },
   "outputs": [],
   "source": [
    "logDF = pd.read_csv(GLOBAL_LOGFILE)\n",
    "\n",
    "# This makes the plot displayed here and not in a popup window\n",
    "%matplotlib inline"
   ]
  },
  {
   "cell_type": "markdown",
   "metadata": {},
   "source": [
    "Now we can do all kinds of plotting."
   ]
  },
  {
   "cell_type": "markdown",
   "metadata": {},
   "source": [
    "### Example 1: Plotting AVAL vs. AVBL"
   ]
  },
  {
   "cell_type": "code",
   "execution_count": null,
   "metadata": {
    "collapsed": false
   },
   "outputs": [],
   "source": [
    "# To makes plotting various plot together easier and cleaner\n",
    "color = itertools.cycle(('b', 'g', 'r', 'c', 'm', 'y', 'k'))\n",
    "\n",
    "# To give the figure nice proportions, python's default is a bit small\n",
    "plt.figure(figsize=(15, 8))\n",
    "\n",
    "# y-axis limits\n",
    "plt.ylim(-1.2, 1.2)    \n",
    "\n",
    "# x-axis limits\n",
    "plt.xlim(0, len(logDF)) \n",
    "\n",
    "# what we actually want to plot\n",
    "plt.plot(logDF['AVBL'],'--', color='black', lw=3, label=\"AVBL\")\n",
    "plt.plot(logDF['AVBR'],'--', color='green', lw=3, label=\"AVBR\")\n",
    "plt.plot(logDF['AVAL'],'-', color='blue', lw=2, label=\"AVAL\")\n",
    "plt.plot(logDF['AVAR'],'-', color='red', lw=2, label=\"AVAR\")\n",
    "# plt.plot(logDF['AVDL'],'-', color='k', lw=1)\n",
    "# plt.plot(logDF['AVDR'],'-', color='y', lw=1)\n",
    "plt.legend(fontsize=24, loc=4)\n",
    "plt.savefig(\"AVBvsAVA.png\")\n"
   ]
  },
  {
   "cell_type": "markdown",
   "metadata": {},
   "source": [
    "### Example 2: Plotting Several Motor Neurons vs. AVBL"
   ]
  },
  {
   "cell_type": "markdown",
   "metadata": {},
   "source": [
    "This is the only line of code we need to change, depending on the neurons we wish to plot:"
   ]
  },
  {
   "cell_type": "code",
   "execution_count": null,
   "metadata": {
    "collapsed": true
   },
   "outputs": [],
   "source": [
    "neuronsToPlot = logDF.loc[:,'AIBL':'AVM'].columns"
   ]
  },
  {
   "cell_type": "code",
   "execution_count": null,
   "metadata": {
    "collapsed": false
   },
   "outputs": [],
   "source": [
    "neuronsToPlot.append"
   ]
  },
  {
   "cell_type": "code",
   "execution_count": null,
   "metadata": {
    "collapsed": false
   },
   "outputs": [],
   "source": [
    "# To makes plotting various plot together easier and cleaner\n",
    "color = itertools.cycle(('g', 'r', 'c', 'm', 'y', 'k'))\n",
    "\n",
    "nrows = len(neuronsToPlot)\n",
    "fig, axes = plt.subplots(nrows, 1, sharex=True, sharey=True, figsize=(20,20))\n",
    "\n",
    "for i, row in enumerate(axes):\n",
    "    row.set_ylim(-1.2, 1.2)\n",
    "    row.set_xlim(0, len(logDF))\n",
    "    \n",
    "    row.set_title(neuronsToPlot[i])\n",
    "    row.plot(logDF['AVBL'],'-', color='black', lw=3)\n",
    "    row.plot(logDF[neuronsToPlot[i]], color=color.next(), lw=4)"
   ]
  },
  {
   "cell_type": "markdown",
   "metadata": {},
   "source": [
    "This is a code segment to display VB1-7 vs. DB1-7:"
   ]
  },
  {
   "cell_type": "code",
   "execution_count": null,
   "metadata": {
    "collapsed": false
   },
   "outputs": [],
   "source": [
    "# To makes plotting various plot together easier and cleaner\n",
    "color = itertools.cycle(('g', 'r', 'c', 'm', 'y', 'k'))\n",
    "\n",
    "nrows = 7\n",
    "fig, axes = plt.subplots(nrows, 1, sharex=True, sharey=True, figsize=(20,20))\n",
    "\n",
    "for i, row in enumerate(axes):\n",
    "    row.set_ylim(-1.2, 1.2)\n",
    "    row.set_xlim(0, len(logDF))\n",
    "    \n",
    "    row.set_title('VA0'+str(i+1)+' (black) vs DA0'+str(i+1) + \" (red)\")\n",
    "    row.plot(logDF['VA0'+str(i+1)], '--',color='black', lw=3)\n",
    "    row.plot(logDF['DA0'+str(i+1)], '-', color='red', lw=3)"
   ]
  },
  {
   "cell_type": "markdown",
   "metadata": {},
   "source": [
    "### Example 3: Plotting VBs vs. DBs according to body segment"
   ]
  },
  {
   "cell_type": "code",
   "execution_count": null,
   "metadata": {
    "collapsed": false
   },
   "outputs": [],
   "source": [
    "# To makes plotting various plot together easier and cleaner\n",
    "color = itertools.cycle(('g', 'r', 'c', 'm', 'y', 'k'))\n",
    "\n",
    "nrows = 11\n",
    "fig, axes = plt.subplots(nrows, 1, sharex=True, sharey=True, figsize=(20,20))\n",
    "\n",
    "for row in axes:\n",
    "    row.set_ylim(-1.2, 1.2)\n",
    "    row.set_xlim(0, len(logDF))\n",
    "\n",
    "axes[0].set_title('VB02')\n",
    "axes[0].plot(logDF['VB02'], '--',color='black', lw=3)\n",
    "\n",
    "axes[1].set_title('VB01 vs DB02')\n",
    "axes[1].plot(logDF['VB01'], '--',color='black', lw=3)\n",
    "axes[1].plot(logDF['DB02'], '-', color='red', lw=3)    \n",
    "\n",
    "axes[2].set_title('VB03 vs DB01')\n",
    "axes[2].plot(logDF['VB03'], '--',color='black', lw=3)\n",
    "axes[2].plot(logDF['DB01'], '-', color='red', lw=3)    \n",
    "\n",
    "axes[3].set_title('VB04 vs DB03')\n",
    "axes[3].plot(logDF['VB04'], '--',color='black', lw=3)\n",
    "axes[3].plot(logDF['DB03'], '-', color='red', lw=3)    \n",
    "\n",
    "axes[4].set_title('VB05 vs DB04')\n",
    "axes[4].plot(logDF['VB05'], '--',color='black', lw=3)\n",
    "axes[4].plot(logDF['DB04'], '-', color='red', lw=3) \n",
    "\n",
    "axes[5].set_title('VB06')\n",
    "axes[5].plot(logDF['VB06'], '--',color='black', lw=3)\n",
    "\n",
    "axes[6].set_title('VB07 vs DB05')\n",
    "axes[6].plot(logDF['VB07'], '--',color='black', lw=3)\n",
    "axes[6].plot(logDF['DB05'], '-', color='red', lw=3) \n",
    "\n",
    "axes[7].set_title('VB08')\n",
    "axes[7].plot(logDF['VB08'], '--',color='black', lw=3)\n",
    "\n",
    "axes[8].set_title('VB09 vs DB06')\n",
    "axes[8].plot(logDF['VB09'], '--',color='black', lw=3)\n",
    "axes[8].plot(logDF['DB06'], '-', color='red', lw=3) \n",
    "\n",
    "axes[9].set_title('VB10')\n",
    "axes[9].plot(logDF['VB10'], '--',color='black', lw=3)\n",
    "\n",
    "axes[10].set_title('VB11 vs DB07')\n",
    "axes[10].plot(logDF['VB11'], '--',color='black', lw=3)\n",
    "axes[10].plot(logDF['DB07'], '-', color='red', lw=3) "
   ]
  },
  {
   "cell_type": "code",
   "execution_count": null,
   "metadata": {
    "collapsed": false
   },
   "outputs": [],
   "source": [
    "# To give the figure nice proportions, python's default is a bit small\n",
    "plt.figure(figsize=(12, 9))\n",
    "\n",
    "# y-axis limits\n",
    "plt.ylim(-1.2, 1.2)    \n",
    "\n",
    "# x-axis limits\n",
    "plt.xlim(0, len(logDF)) \n",
    "\n",
    "# what we actually want to plot\n",
    "plt.plot(logDF['SMDDL'],'-', color='black', lw=3, label=\"SMDDL\")\n",
    "plt.plot(logDF['SMDDR'],'-', color='blue', lw=3, label=\"SMDDR\")\n",
    "plt.plot(logDF['SMDVL'],'--', color='green', lw=3, label=\"SMDVL\")\n",
    "plt.plot(logDF['SMDVR'],'--', color='red', lw=3, label=\"SMDVR\")\n",
    "plt.legend(fontsize=24, loc=4)"
   ]
  },
  {
   "cell_type": "code",
   "execution_count": null,
   "metadata": {
    "collapsed": false
   },
   "outputs": [],
   "source": [
    "# To give the figure nice proportions, python's default is a bit small\n",
    "plt.figure(figsize=(12, 9))\n",
    "\n",
    "# y-axis limits\n",
    "plt.ylim(0, 1.2)    \n",
    "\n",
    "# x-axis limits\n",
    "plt.xlim(0, len(logDF)) \n",
    "\n",
    "# what we actually want to plot\n",
    "plt.title(\"AVM vs. AVDL\", fontsize = 24)\n",
    "plt.xlabel(\"Simulation Time Steps\", fontsize = 24)\n",
    "plt.xticks([0,100,200,300,400,500,600,700], fontsize = 24)\n",
    "plt.ylabel(\"Neuron Activation\", fontsize = 24)\n",
    "plt.yticks([-1, -0.5, 0,0.5,1], fontsize = 24)\n",
    "plt.plot(logDF['AVDL'],'-', color='black', lw=3, label=\"AVDL\")\n",
    "plt.plot(logDF['AVDR'],'-', color='blue', lw=3, label=\"AVDR\")\n",
    "plt.plot(logDF['AVM'],'-', color='red', lw=3, label=\"AVM\")\n",
    "plt.plot(logDF['ALML'],'-', color='magenta', lw=3, label=\"ALML\")\n",
    "plt.plot(logDF['ALMR'],'-', color='pink', lw=3, label=\"ALMR\")\n",
    "plt.legend(fontsize=24, loc=4)\n",
    "plt.savefig(\"AVDUP\")"
   ]
  },
  {
   "cell_type": "code",
   "execution_count": null,
   "metadata": {
    "collapsed": false
   },
   "outputs": [],
   "source": []
  }
 ],
 "metadata": {
  "kernelspec": {
   "display_name": "Python 2",
   "language": "python",
   "name": "python2"
  },
  "language_info": {
   "codemirror_mode": {
    "name": "ipython",
    "version": 2
   },
   "file_extension": ".py",
   "mimetype": "text/x-python",
   "name": "python",
   "nbconvert_exporter": "python",
   "pygments_lexer": "ipython2",
   "version": "2.7.11"
  }
 },
 "nbformat": 4,
 "nbformat_minor": 0
}
